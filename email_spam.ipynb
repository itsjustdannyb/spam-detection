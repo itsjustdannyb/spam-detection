{
  "cells": [
    {
      "cell_type": "markdown",
      "id": "d49c9a94-1f9d-4045-98f8-3d872a42d154",
      "metadata": {
        "id": "d49c9a94-1f9d-4045-98f8-3d872a42d154"
      },
      "source": [
        "## Dependencies"
      ]
    },
    {
      "cell_type": "markdown",
      "id": "a72b2c58-f15a-4364-a078-3edea5f2fd7b",
      "metadata": {
        "id": "a72b2c58-f15a-4364-a078-3edea5f2fd7b"
      },
      "source": [
        "## Introduction\n",
        "\n",
        "<p><b>Algorithms we're considering</b></p>\n",
        "<p>Naive Bayes</p>\n",
        "<p>Support Vector Machines</p>\n",
        "<p>K Nearest Neighbors</p>"
      ]
    },
    {
      "cell_type": "code",
      "execution_count": 9,
      "id": "ad64d5b7-46e6-40dc-9803-6fcae8d11153",
      "metadata": {
        "id": "ad64d5b7-46e6-40dc-9803-6fcae8d11153"
      },
      "outputs": [],
      "source": [
        "import pandas as pd\n",
        "import numpy as np\n",
        "import matplotlib.pyplot as plt\n",
        "import seaborn as sns"
      ]
    },
    {
      "cell_type": "code",
      "execution_count": 10,
      "id": "7a8cd4ad-7111-4a4a-8658-b47a7310ad00",
      "metadata": {
        "colab": {
          "base_uri": "https://localhost:8080/",
          "height": 424
        },
        "id": "7a8cd4ad-7111-4a4a-8658-b47a7310ad00",
        "outputId": "ee62e67f-1d25-4c82-bb7b-e6d8ec270f22"
      },
      "outputs": [
        {
          "output_type": "execute_result",
          "data": {
            "text/plain": [
              "      Unnamed: 0 label                                               text  \\\n",
              "0            605   ham  Subject: enron methanol ; meter # : 988291\\r\\r...   \n",
              "1           2349   ham  Subject: hpl nom for january 9 , 2001\\r\\r\\n( s...   \n",
              "2           3624   ham  Subject: neon retreat\\r\\r\\nho ho ho , we ' re ...   \n",
              "3           4685  spam  Subject: photoshop , windows , office . cheap ...   \n",
              "4           2030   ham  Subject: re : indian springs\\r\\r\\nthis deal is...   \n",
              "...          ...   ...                                                ...   \n",
              "5166        1518   ham  Subject: put the 10 on the ft\\r\\r\\nthe transpo...   \n",
              "5167         404   ham  Subject: 3 / 4 / 2000 and following noms\\r\\r\\n...   \n",
              "5168        2933   ham  Subject: calpine daily gas nomination\\r\\r\\n>\\r...   \n",
              "5169        1409   ham  Subject: industrial worksheets for august 2000...   \n",
              "5170        4807  spam  Subject: important online banking alert\\r\\r\\nd...   \n",
              "\n",
              "      label_num  \n",
              "0             0  \n",
              "1             0  \n",
              "2             0  \n",
              "3             1  \n",
              "4             0  \n",
              "...         ...  \n",
              "5166          0  \n",
              "5167          0  \n",
              "5168          0  \n",
              "5169          0  \n",
              "5170          1  \n",
              "\n",
              "[5171 rows x 4 columns]"
            ],
            "text/html": [
              "\n",
              "  <div id=\"df-742bafdb-52d3-4001-a318-a8f9ff29a21e\" class=\"colab-df-container\">\n",
              "    <div>\n",
              "<style scoped>\n",
              "    .dataframe tbody tr th:only-of-type {\n",
              "        vertical-align: middle;\n",
              "    }\n",
              "\n",
              "    .dataframe tbody tr th {\n",
              "        vertical-align: top;\n",
              "    }\n",
              "\n",
              "    .dataframe thead th {\n",
              "        text-align: right;\n",
              "    }\n",
              "</style>\n",
              "<table border=\"1\" class=\"dataframe\">\n",
              "  <thead>\n",
              "    <tr style=\"text-align: right;\">\n",
              "      <th></th>\n",
              "      <th>Unnamed: 0</th>\n",
              "      <th>label</th>\n",
              "      <th>text</th>\n",
              "      <th>label_num</th>\n",
              "    </tr>\n",
              "  </thead>\n",
              "  <tbody>\n",
              "    <tr>\n",
              "      <th>0</th>\n",
              "      <td>605</td>\n",
              "      <td>ham</td>\n",
              "      <td>Subject: enron methanol ; meter # : 988291\\r\\r...</td>\n",
              "      <td>0</td>\n",
              "    </tr>\n",
              "    <tr>\n",
              "      <th>1</th>\n",
              "      <td>2349</td>\n",
              "      <td>ham</td>\n",
              "      <td>Subject: hpl nom for january 9 , 2001\\r\\r\\n( s...</td>\n",
              "      <td>0</td>\n",
              "    </tr>\n",
              "    <tr>\n",
              "      <th>2</th>\n",
              "      <td>3624</td>\n",
              "      <td>ham</td>\n",
              "      <td>Subject: neon retreat\\r\\r\\nho ho ho , we ' re ...</td>\n",
              "      <td>0</td>\n",
              "    </tr>\n",
              "    <tr>\n",
              "      <th>3</th>\n",
              "      <td>4685</td>\n",
              "      <td>spam</td>\n",
              "      <td>Subject: photoshop , windows , office . cheap ...</td>\n",
              "      <td>1</td>\n",
              "    </tr>\n",
              "    <tr>\n",
              "      <th>4</th>\n",
              "      <td>2030</td>\n",
              "      <td>ham</td>\n",
              "      <td>Subject: re : indian springs\\r\\r\\nthis deal is...</td>\n",
              "      <td>0</td>\n",
              "    </tr>\n",
              "    <tr>\n",
              "      <th>...</th>\n",
              "      <td>...</td>\n",
              "      <td>...</td>\n",
              "      <td>...</td>\n",
              "      <td>...</td>\n",
              "    </tr>\n",
              "    <tr>\n",
              "      <th>5166</th>\n",
              "      <td>1518</td>\n",
              "      <td>ham</td>\n",
              "      <td>Subject: put the 10 on the ft\\r\\r\\nthe transpo...</td>\n",
              "      <td>0</td>\n",
              "    </tr>\n",
              "    <tr>\n",
              "      <th>5167</th>\n",
              "      <td>404</td>\n",
              "      <td>ham</td>\n",
              "      <td>Subject: 3 / 4 / 2000 and following noms\\r\\r\\n...</td>\n",
              "      <td>0</td>\n",
              "    </tr>\n",
              "    <tr>\n",
              "      <th>5168</th>\n",
              "      <td>2933</td>\n",
              "      <td>ham</td>\n",
              "      <td>Subject: calpine daily gas nomination\\r\\r\\n&gt;\\r...</td>\n",
              "      <td>0</td>\n",
              "    </tr>\n",
              "    <tr>\n",
              "      <th>5169</th>\n",
              "      <td>1409</td>\n",
              "      <td>ham</td>\n",
              "      <td>Subject: industrial worksheets for august 2000...</td>\n",
              "      <td>0</td>\n",
              "    </tr>\n",
              "    <tr>\n",
              "      <th>5170</th>\n",
              "      <td>4807</td>\n",
              "      <td>spam</td>\n",
              "      <td>Subject: important online banking alert\\r\\r\\nd...</td>\n",
              "      <td>1</td>\n",
              "    </tr>\n",
              "  </tbody>\n",
              "</table>\n",
              "<p>5171 rows × 4 columns</p>\n",
              "</div>\n",
              "    <div class=\"colab-df-buttons\">\n",
              "\n",
              "  <div class=\"colab-df-container\">\n",
              "    <button class=\"colab-df-convert\" onclick=\"convertToInteractive('df-742bafdb-52d3-4001-a318-a8f9ff29a21e')\"\n",
              "            title=\"Convert this dataframe to an interactive table.\"\n",
              "            style=\"display:none;\">\n",
              "\n",
              "  <svg xmlns=\"http://www.w3.org/2000/svg\" height=\"24px\" viewBox=\"0 -960 960 960\">\n",
              "    <path d=\"M120-120v-720h720v720H120Zm60-500h600v-160H180v160Zm220 220h160v-160H400v160Zm0 220h160v-160H400v160ZM180-400h160v-160H180v160Zm440 0h160v-160H620v160ZM180-180h160v-160H180v160Zm440 0h160v-160H620v160Z\"/>\n",
              "  </svg>\n",
              "    </button>\n",
              "\n",
              "  <style>\n",
              "    .colab-df-container {\n",
              "      display:flex;\n",
              "      gap: 12px;\n",
              "    }\n",
              "\n",
              "    .colab-df-convert {\n",
              "      background-color: #E8F0FE;\n",
              "      border: none;\n",
              "      border-radius: 50%;\n",
              "      cursor: pointer;\n",
              "      display: none;\n",
              "      fill: #1967D2;\n",
              "      height: 32px;\n",
              "      padding: 0 0 0 0;\n",
              "      width: 32px;\n",
              "    }\n",
              "\n",
              "    .colab-df-convert:hover {\n",
              "      background-color: #E2EBFA;\n",
              "      box-shadow: 0px 1px 2px rgba(60, 64, 67, 0.3), 0px 1px 3px 1px rgba(60, 64, 67, 0.15);\n",
              "      fill: #174EA6;\n",
              "    }\n",
              "\n",
              "    .colab-df-buttons div {\n",
              "      margin-bottom: 4px;\n",
              "    }\n",
              "\n",
              "    [theme=dark] .colab-df-convert {\n",
              "      background-color: #3B4455;\n",
              "      fill: #D2E3FC;\n",
              "    }\n",
              "\n",
              "    [theme=dark] .colab-df-convert:hover {\n",
              "      background-color: #434B5C;\n",
              "      box-shadow: 0px 1px 3px 1px rgba(0, 0, 0, 0.15);\n",
              "      filter: drop-shadow(0px 1px 2px rgba(0, 0, 0, 0.3));\n",
              "      fill: #FFFFFF;\n",
              "    }\n",
              "  </style>\n",
              "\n",
              "    <script>\n",
              "      const buttonEl =\n",
              "        document.querySelector('#df-742bafdb-52d3-4001-a318-a8f9ff29a21e button.colab-df-convert');\n",
              "      buttonEl.style.display =\n",
              "        google.colab.kernel.accessAllowed ? 'block' : 'none';\n",
              "\n",
              "      async function convertToInteractive(key) {\n",
              "        const element = document.querySelector('#df-742bafdb-52d3-4001-a318-a8f9ff29a21e');\n",
              "        const dataTable =\n",
              "          await google.colab.kernel.invokeFunction('convertToInteractive',\n",
              "                                                    [key], {});\n",
              "        if (!dataTable) return;\n",
              "\n",
              "        const docLinkHtml = 'Like what you see? Visit the ' +\n",
              "          '<a target=\"_blank\" href=https://colab.research.google.com/notebooks/data_table.ipynb>data table notebook</a>'\n",
              "          + ' to learn more about interactive tables.';\n",
              "        element.innerHTML = '';\n",
              "        dataTable['output_type'] = 'display_data';\n",
              "        await google.colab.output.renderOutput(dataTable, element);\n",
              "        const docLink = document.createElement('div');\n",
              "        docLink.innerHTML = docLinkHtml;\n",
              "        element.appendChild(docLink);\n",
              "      }\n",
              "    </script>\n",
              "  </div>\n",
              "\n",
              "\n",
              "<div id=\"df-2b32b35f-b352-49fc-96b5-9c2a184ca15a\">\n",
              "  <button class=\"colab-df-quickchart\" onclick=\"quickchart('df-2b32b35f-b352-49fc-96b5-9c2a184ca15a')\"\n",
              "            title=\"Suggest charts\"\n",
              "            style=\"display:none;\">\n",
              "\n",
              "<svg xmlns=\"http://www.w3.org/2000/svg\" height=\"24px\"viewBox=\"0 0 24 24\"\n",
              "     width=\"24px\">\n",
              "    <g>\n",
              "        <path d=\"M19 3H5c-1.1 0-2 .9-2 2v14c0 1.1.9 2 2 2h14c1.1 0 2-.9 2-2V5c0-1.1-.9-2-2-2zM9 17H7v-7h2v7zm4 0h-2V7h2v10zm4 0h-2v-4h2v4z\"/>\n",
              "    </g>\n",
              "</svg>\n",
              "  </button>\n",
              "\n",
              "<style>\n",
              "  .colab-df-quickchart {\n",
              "      --bg-color: #E8F0FE;\n",
              "      --fill-color: #1967D2;\n",
              "      --hover-bg-color: #E2EBFA;\n",
              "      --hover-fill-color: #174EA6;\n",
              "      --disabled-fill-color: #AAA;\n",
              "      --disabled-bg-color: #DDD;\n",
              "  }\n",
              "\n",
              "  [theme=dark] .colab-df-quickchart {\n",
              "      --bg-color: #3B4455;\n",
              "      --fill-color: #D2E3FC;\n",
              "      --hover-bg-color: #434B5C;\n",
              "      --hover-fill-color: #FFFFFF;\n",
              "      --disabled-bg-color: #3B4455;\n",
              "      --disabled-fill-color: #666;\n",
              "  }\n",
              "\n",
              "  .colab-df-quickchart {\n",
              "    background-color: var(--bg-color);\n",
              "    border: none;\n",
              "    border-radius: 50%;\n",
              "    cursor: pointer;\n",
              "    display: none;\n",
              "    fill: var(--fill-color);\n",
              "    height: 32px;\n",
              "    padding: 0;\n",
              "    width: 32px;\n",
              "  }\n",
              "\n",
              "  .colab-df-quickchart:hover {\n",
              "    background-color: var(--hover-bg-color);\n",
              "    box-shadow: 0 1px 2px rgba(60, 64, 67, 0.3), 0 1px 3px 1px rgba(60, 64, 67, 0.15);\n",
              "    fill: var(--button-hover-fill-color);\n",
              "  }\n",
              "\n",
              "  .colab-df-quickchart-complete:disabled,\n",
              "  .colab-df-quickchart-complete:disabled:hover {\n",
              "    background-color: var(--disabled-bg-color);\n",
              "    fill: var(--disabled-fill-color);\n",
              "    box-shadow: none;\n",
              "  }\n",
              "\n",
              "  .colab-df-spinner {\n",
              "    border: 2px solid var(--fill-color);\n",
              "    border-color: transparent;\n",
              "    border-bottom-color: var(--fill-color);\n",
              "    animation:\n",
              "      spin 1s steps(1) infinite;\n",
              "  }\n",
              "\n",
              "  @keyframes spin {\n",
              "    0% {\n",
              "      border-color: transparent;\n",
              "      border-bottom-color: var(--fill-color);\n",
              "      border-left-color: var(--fill-color);\n",
              "    }\n",
              "    20% {\n",
              "      border-color: transparent;\n",
              "      border-left-color: var(--fill-color);\n",
              "      border-top-color: var(--fill-color);\n",
              "    }\n",
              "    30% {\n",
              "      border-color: transparent;\n",
              "      border-left-color: var(--fill-color);\n",
              "      border-top-color: var(--fill-color);\n",
              "      border-right-color: var(--fill-color);\n",
              "    }\n",
              "    40% {\n",
              "      border-color: transparent;\n",
              "      border-right-color: var(--fill-color);\n",
              "      border-top-color: var(--fill-color);\n",
              "    }\n",
              "    60% {\n",
              "      border-color: transparent;\n",
              "      border-right-color: var(--fill-color);\n",
              "    }\n",
              "    80% {\n",
              "      border-color: transparent;\n",
              "      border-right-color: var(--fill-color);\n",
              "      border-bottom-color: var(--fill-color);\n",
              "    }\n",
              "    90% {\n",
              "      border-color: transparent;\n",
              "      border-bottom-color: var(--fill-color);\n",
              "    }\n",
              "  }\n",
              "</style>\n",
              "\n",
              "  <script>\n",
              "    async function quickchart(key) {\n",
              "      const quickchartButtonEl =\n",
              "        document.querySelector('#' + key + ' button');\n",
              "      quickchartButtonEl.disabled = true;  // To prevent multiple clicks.\n",
              "      quickchartButtonEl.classList.add('colab-df-spinner');\n",
              "      try {\n",
              "        const charts = await google.colab.kernel.invokeFunction(\n",
              "            'suggestCharts', [key], {});\n",
              "      } catch (error) {\n",
              "        console.error('Error during call to suggestCharts:', error);\n",
              "      }\n",
              "      quickchartButtonEl.classList.remove('colab-df-spinner');\n",
              "      quickchartButtonEl.classList.add('colab-df-quickchart-complete');\n",
              "    }\n",
              "    (() => {\n",
              "      let quickchartButtonEl =\n",
              "        document.querySelector('#df-2b32b35f-b352-49fc-96b5-9c2a184ca15a button');\n",
              "      quickchartButtonEl.style.display =\n",
              "        google.colab.kernel.accessAllowed ? 'block' : 'none';\n",
              "    })();\n",
              "  </script>\n",
              "</div>\n",
              "\n",
              "  <div id=\"id_3ea95ad7-cfe5-4416-805c-8c60750677f2\">\n",
              "    <style>\n",
              "      .colab-df-generate {\n",
              "        background-color: #E8F0FE;\n",
              "        border: none;\n",
              "        border-radius: 50%;\n",
              "        cursor: pointer;\n",
              "        display: none;\n",
              "        fill: #1967D2;\n",
              "        height: 32px;\n",
              "        padding: 0 0 0 0;\n",
              "        width: 32px;\n",
              "      }\n",
              "\n",
              "      .colab-df-generate:hover {\n",
              "        background-color: #E2EBFA;\n",
              "        box-shadow: 0px 1px 2px rgba(60, 64, 67, 0.3), 0px 1px 3px 1px rgba(60, 64, 67, 0.15);\n",
              "        fill: #174EA6;\n",
              "      }\n",
              "\n",
              "      [theme=dark] .colab-df-generate {\n",
              "        background-color: #3B4455;\n",
              "        fill: #D2E3FC;\n",
              "      }\n",
              "\n",
              "      [theme=dark] .colab-df-generate:hover {\n",
              "        background-color: #434B5C;\n",
              "        box-shadow: 0px 1px 3px 1px rgba(0, 0, 0, 0.15);\n",
              "        filter: drop-shadow(0px 1px 2px rgba(0, 0, 0, 0.3));\n",
              "        fill: #FFFFFF;\n",
              "      }\n",
              "    </style>\n",
              "    <button class=\"colab-df-generate\" onclick=\"generateWithVariable('data')\"\n",
              "            title=\"Generate code using this dataframe.\"\n",
              "            style=\"display:none;\">\n",
              "\n",
              "  <svg xmlns=\"http://www.w3.org/2000/svg\" height=\"24px\"viewBox=\"0 0 24 24\"\n",
              "       width=\"24px\">\n",
              "    <path d=\"M7,19H8.4L18.45,9,17,7.55,7,17.6ZM5,21V16.75L18.45,3.32a2,2,0,0,1,2.83,0l1.4,1.43a1.91,1.91,0,0,1,.58,1.4,1.91,1.91,0,0,1-.58,1.4L9.25,21ZM18.45,9,17,7.55Zm-12,3A5.31,5.31,0,0,0,4.9,8.1,5.31,5.31,0,0,0,1,6.5,5.31,5.31,0,0,0,4.9,4.9,5.31,5.31,0,0,0,6.5,1,5.31,5.31,0,0,0,8.1,4.9,5.31,5.31,0,0,0,12,6.5,5.46,5.46,0,0,0,6.5,12Z\"/>\n",
              "  </svg>\n",
              "    </button>\n",
              "    <script>\n",
              "      (() => {\n",
              "      const buttonEl =\n",
              "        document.querySelector('#id_3ea95ad7-cfe5-4416-805c-8c60750677f2 button.colab-df-generate');\n",
              "      buttonEl.style.display =\n",
              "        google.colab.kernel.accessAllowed ? 'block' : 'none';\n",
              "\n",
              "      buttonEl.onclick = () => {\n",
              "        google.colab.notebook.generateWithVariable('data');\n",
              "      }\n",
              "      })();\n",
              "    </script>\n",
              "  </div>\n",
              "\n",
              "    </div>\n",
              "  </div>\n"
            ],
            "application/vnd.google.colaboratory.intrinsic+json": {
              "type": "dataframe",
              "variable_name": "data",
              "summary": "{\n  \"name\": \"data\",\n  \"rows\": 5171,\n  \"fields\": [\n    {\n      \"column\": \"Unnamed: 0\",\n      \"properties\": {\n        \"dtype\": \"number\",\n        \"std\": 1492,\n        \"min\": 0,\n        \"max\": 5170,\n        \"num_unique_values\": 5171,\n        \"samples\": [\n          2924,\n          3839,\n          3078\n        ],\n        \"semantic_type\": \"\",\n        \"description\": \"\"\n      }\n    },\n    {\n      \"column\": \"label\",\n      \"properties\": {\n        \"dtype\": \"category\",\n        \"num_unique_values\": 2,\n        \"samples\": [\n          \"spam\",\n          \"ham\"\n        ],\n        \"semantic_type\": \"\",\n        \"description\": \"\"\n      }\n    },\n    {\n      \"column\": \"text\",\n      \"properties\": {\n        \"dtype\": \"string\",\n        \"num_unique_values\": 4993,\n        \"samples\": [\n          \"Subject: hpl / conoco - teco waha 03 / 23 / 01 purchase\\r\\r\\ndaren , conoco invoiced hpl at $ 5 . 87 for 03 / 23 at pgev / waha and deal ticket 685350 shows $ 4 . 87 . can you confirm the price ? thanks .\",\n          \"Subject: holiday on - call data\\r\\r\\npipeline contact phone fax pager\\r\\r\\nblack marlin blair lichentwalter 713 853 - 7367 713 646 - 3201 ( h )\\r\\r\\n281 370 - 1866\\r\\r\\ndebbie thompson 713 853 - 3144 713 646 - 3201\\r\\r\\n( noms due today for 23 rd through 27 th )\\r\\r\\nchannel jim tobacco 713 420 - 2159\\r\\r\\ngas control 1 505 599 - 2333\\r\\r\\n( open thursday . noms will be due through monday )\\r\\r\\ncentana william spekels 713 627 - 6290 713 762 - 3450\\r\\r\\ndonna spencer 713 627 - 6255\\r\\r\\ngas control 1 888 204 - 1718\\r\\r\\n( noms due today for 23 rd through 27 th )\\r\\r\\nduke energy annette anderson 713 260 - 8603 713 949 - 3026\\r\\r\\n( on call ) bob moseman 713 - 260 - 8698 ( thursday )\\r\\r\\nopen tomorrow - noms will be due thru the 27 th )\\r\\r\\nlonestar gary gafford 214 670 - 2674 214 875 - 3810\\r\\r\\ngas control 214 875 - 2455 or 2456\\r\\r\\n( noms due today , 23 rd thru 27 th )\\r\\r\\nnorthern natural ben markey 853 - 7581 cell 713 446 - 9404 800 931 - 0398\\r\\r\\n( on call ) charlie mosey 853 - 1520\\r\\r\\ngas control 853 -\\r\\r\\n( open thursday - noms due thru 27 th . )\\r\\r\\neast trans - east texas\\r\\r\\ntejas gas control 713 767 - 5366\\r\\r\\npaula svehla 713 230 - 3569\\r\\r\\nmickey chapman 713 230 - 3546\\r\\r\\n( open thursday - noms due thru 27 th )\\r\\r\\nmidcon ( y 2 k ) ken nachlinger 713 369 - 9284 713 369 - 9375 888 733 - 5954\\r\\r\\n( on call ) steven 888 790 - 0255\\r\\r\\n( y 2 k ) don 888 733 - 4602\\r\\r\\ngas control 713 369 - 9200\\r\\r\\n( noms due today , 23 rd thru 27 th )\\r\\r\\nmoss bluff no current business\"\n        ],\n        \"semantic_type\": \"\",\n        \"description\": \"\"\n      }\n    },\n    {\n      \"column\": \"label_num\",\n      \"properties\": {\n        \"dtype\": \"number\",\n        \"std\": 0,\n        \"min\": 0,\n        \"max\": 1,\n        \"num_unique_values\": 2,\n        \"samples\": [\n          1,\n          0\n        ],\n        \"semantic_type\": \"\",\n        \"description\": \"\"\n      }\n    }\n  ]\n}"
            }
          },
          "metadata": {},
          "execution_count": 10
        }
      ],
      "source": [
        "path = \"spam_ham_dataset.csv\"\n",
        "data = pd.read_csv(path)\n",
        "data"
      ]
    },
    {
      "cell_type": "code",
      "execution_count": 11,
      "id": "d3da221e-98be-49fc-96cd-452cefa29818",
      "metadata": {
        "colab": {
          "base_uri": "https://localhost:8080/"
        },
        "id": "d3da221e-98be-49fc-96cd-452cefa29818",
        "outputId": "f8c91d35-6757-4aaa-d36e-1cd02e883501"
      },
      "outputs": [
        {
          "output_type": "stream",
          "name": "stdout",
          "text": [
            "<class 'pandas.core.frame.DataFrame'>\n",
            "RangeIndex: 5171 entries, 0 to 5170\n",
            "Data columns (total 4 columns):\n",
            " #   Column      Non-Null Count  Dtype \n",
            "---  ------      --------------  ----- \n",
            " 0   Unnamed: 0  5171 non-null   int64 \n",
            " 1   label       5171 non-null   object\n",
            " 2   text        5171 non-null   object\n",
            " 3   label_num   5171 non-null   int64 \n",
            "dtypes: int64(2), object(2)\n",
            "memory usage: 161.7+ KB\n"
          ]
        }
      ],
      "source": [
        "data.info()"
      ]
    },
    {
      "cell_type": "code",
      "execution_count": 12,
      "id": "ebb12bfc-a469-438d-b770-6ee397fcf3e7",
      "metadata": {
        "id": "ebb12bfc-a469-438d-b770-6ee397fcf3e7"
      },
      "outputs": [],
      "source": [
        "# There are no null values"
      ]
    },
    {
      "cell_type": "code",
      "execution_count": 12,
      "id": "cd0f926c-ebdd-4b38-b0ab-08af760c1ad2",
      "metadata": {
        "id": "cd0f926c-ebdd-4b38-b0ab-08af760c1ad2"
      },
      "outputs": [],
      "source": []
    },
    {
      "cell_type": "markdown",
      "id": "027906d0-0f3f-4f93-bcd3-d89fe0f18f00",
      "metadata": {
        "id": "027906d0-0f3f-4f93-bcd3-d89fe0f18f00"
      },
      "source": [
        "## Data Cleaning"
      ]
    },
    {
      "cell_type": "code",
      "execution_count": 13,
      "id": "f45dd611-0fd8-4b06-ad6d-069a9506d6e4",
      "metadata": {
        "colab": {
          "base_uri": "https://localhost:8080/"
        },
        "id": "f45dd611-0fd8-4b06-ad6d-069a9506d6e4",
        "outputId": "50bea6d5-1df4-4885-e6b8-b565bf54aa8c"
      },
      "outputs": [
        {
          "output_type": "stream",
          "name": "stderr",
          "text": [
            "[nltk_data] Downloading package stopwords to /root/nltk_data...\n",
            "[nltk_data]   Package stopwords is already up-to-date!\n",
            "[nltk_data] Downloading package wordnet to /root/nltk_data...\n",
            "[nltk_data]   Package wordnet is already up-to-date!\n"
          ]
        },
        {
          "output_type": "execute_result",
          "data": {
            "text/plain": [
              "True"
            ]
          },
          "metadata": {},
          "execution_count": 13
        }
      ],
      "source": [
        "import nltk # natural language toolkit\n",
        "from nltk.corpus import stopwords\n",
        "from nltk.stem import WordNetLemmatizer # split sentences to their root words\n",
        "from sklearn.feature_extraction.text import TfidfVectorizer  # convert words to vectors\n",
        "import string\n",
        "\n",
        "\n",
        "\n",
        "nltk.download('stopwords')\n",
        "nltk.download('wordnet')"
      ]
    },
    {
      "cell_type": "code",
      "execution_count": 14,
      "id": "64e83be2-06f8-49c1-8e0a-9fd458cbfcfe",
      "metadata": {
        "id": "64e83be2-06f8-49c1-8e0a-9fd458cbfcfe"
      },
      "outputs": [],
      "source": [
        "lemmatizer = WordNetLemmatizer()\n",
        "\n",
        "words = []\n",
        "\n",
        "stopwords_set  = set(stopwords.words('english'))\n",
        "\n",
        "for i in range(len(data)):\n",
        "    text = data['text'].iloc[i].casefold()\n",
        "    text = text.translate(str.maketrans('','',string.punctuation)).split()\n",
        "    text = [lemmatizer.lemmatize(word) for word in text if word not in stopwords_set]\n",
        "    text = ' '.join(text)\n",
        "    words.append(text)"
      ]
    },
    {
      "cell_type": "markdown",
      "source": [
        "## Vectorize Words"
      ],
      "metadata": {
        "id": "WPPL7wYTGK7C"
      },
      "id": "WPPL7wYTGK7C"
    },
    {
      "cell_type": "code",
      "source": [
        "vectorizer = TfidfVectorizer()\n",
        "\n",
        "X = vectorizer.fit_transform(words).toarray()\n",
        "y = data['label_num']"
      ],
      "metadata": {
        "id": "lwa4JsdKGOSF"
      },
      "id": "lwa4JsdKGOSF",
      "execution_count": 15,
      "outputs": []
    },
    {
      "cell_type": "code",
      "execution_count": 15,
      "id": "2117a0f2-8e8f-4ca1-8285-55f10b6ac93a",
      "metadata": {
        "id": "2117a0f2-8e8f-4ca1-8285-55f10b6ac93a"
      },
      "outputs": [],
      "source": []
    },
    {
      "cell_type": "markdown",
      "source": [
        "### Split Data into Training and Test Data"
      ],
      "metadata": {
        "id": "J4q9orWYJbjw"
      },
      "id": "J4q9orWYJbjw"
    },
    {
      "cell_type": "code",
      "execution_count": 16,
      "id": "45a290c2-183a-4469-91f3-5d98467fa4db",
      "metadata": {
        "id": "45a290c2-183a-4469-91f3-5d98467fa4db"
      },
      "outputs": [],
      "source": [
        "from sklearn.model_selection import train_test_split\n",
        "X_train, X_test, y_train, y_test = train_test_split(X, y, test_size=0.2, random_state=42)"
      ]
    },
    {
      "cell_type": "code",
      "source": [
        "print(X_train.shape)\n",
        "print(y_train.shape)\n",
        "print(X_test.shape)\n",
        "print(y_test.shape)"
      ],
      "metadata": {
        "colab": {
          "base_uri": "https://localhost:8080/"
        },
        "id": "01rV59yqJnJt",
        "outputId": "59cb7869-ce68-451f-a1ce-c3d9f14c967d"
      },
      "id": "01rV59yqJnJt",
      "execution_count": 17,
      "outputs": [
        {
          "output_type": "stream",
          "name": "stdout",
          "text": [
            "(4136, 47906)\n",
            "(4136,)\n",
            "(1035, 47906)\n",
            "(1035,)\n"
          ]
        }
      ]
    },
    {
      "cell_type": "code",
      "source": [],
      "metadata": {
        "id": "u9sqe8PPJS-c"
      },
      "id": "u9sqe8PPJS-c",
      "execution_count": 17,
      "outputs": []
    },
    {
      "cell_type": "markdown",
      "id": "1e7a649e-3149-4c57-bcae-ffc48d86d0df",
      "metadata": {
        "id": "1e7a649e-3149-4c57-bcae-ffc48d86d0df"
      },
      "source": [
        "# Naive Bayes"
      ]
    },
    {
      "cell_type": "markdown",
      "source": [
        "#### Gussian Naive Bayes"
      ],
      "metadata": {
        "id": "aQ1wMXB-VUrl"
      },
      "id": "aQ1wMXB-VUrl"
    },
    {
      "cell_type": "code",
      "execution_count": 18,
      "id": "1d23404c-5bae-45de-83b0-c6d52b8932a0",
      "metadata": {
        "colab": {
          "base_uri": "https://localhost:8080/"
        },
        "id": "1d23404c-5bae-45de-83b0-c6d52b8932a0",
        "outputId": "0777325a-313f-4e0f-fd02-95a758e869b4"
      },
      "outputs": [
        {
          "output_type": "execute_result",
          "data": {
            "text/plain": [
              "0.988394584139265"
            ]
          },
          "metadata": {},
          "execution_count": 18
        }
      ],
      "source": [
        "from sklearn.naive_bayes import GaussianNB, MultinomialNB, BernoulliNB\n",
        "GNB_model = GaussianNB()\n",
        "# Model training\n",
        "GNB_model.fit(X_train, y_train)\n",
        "GNB_model.score(X_train, y_train)"
      ]
    },
    {
      "cell_type": "code",
      "source": [
        "# on test data\n",
        "GNB_model.score(X_test, y_test)"
      ],
      "metadata": {
        "colab": {
          "base_uri": "https://localhost:8080/"
        },
        "id": "_rAiqNWYKpD5",
        "outputId": "29b0aee1-817c-48af-e80f-ce9d78c37a42"
      },
      "id": "_rAiqNWYKpD5",
      "execution_count": 19,
      "outputs": [
        {
          "output_type": "execute_result",
          "data": {
            "text/plain": [
              "0.9468599033816425"
            ]
          },
          "metadata": {},
          "execution_count": 19
        }
      ]
    },
    {
      "cell_type": "markdown",
      "source": [
        "## Confusion Matrix"
      ],
      "metadata": {
        "id": "67CQ30Be8let"
      },
      "id": "67CQ30Be8let"
    },
    {
      "cell_type": "code",
      "source": [
        "from sklearn.metrics import confusion_matrix\n",
        "GNB_predict = GNB_model.predict(X_test)\n",
        "cfm_gnb = confusion_matrix(y_test, GNB_predict)\n",
        "sns.heatmap(cfm_gnb, annot=True, annot_kws={'size':10}, fmt=\"d\")\n",
        "plt.title(\"Confusion Matrix for Gaussian Naive Bayes\")\n",
        "plt.xlabel(\"Predicted\")\n",
        "plt.ylabel(\"Actual\")"
      ],
      "metadata": {
        "colab": {
          "base_uri": "https://localhost:8080/",
          "height": 489
        },
        "id": "3lZImPaw8jr6",
        "outputId": "252885af-ecf4-46a4-e544-02aa320b41f8"
      },
      "id": "3lZImPaw8jr6",
      "execution_count": 20,
      "outputs": [
        {
          "output_type": "execute_result",
          "data": {
            "text/plain": [
              "Text(50.722222222222214, 0.5, 'Actual')"
            ]
          },
          "metadata": {},
          "execution_count": 20
        },
        {
          "output_type": "display_data",
          "data": {
            "text/plain": [
              "<Figure size 640x480 with 2 Axes>"
            ],
            "image/png": "[encoded data removed]"
          },
          "metadata": {}
        }
      ]
    },
    {
      "cell_type": "code",
      "source": [
        "from sklearn.metrics import classification_report"
      ],
      "metadata": {
        "id": "Y7ECPqzT8jWx"
      },
      "id": "Y7ECPqzT8jWx",
      "execution_count": 21,
      "outputs": []
    },
    {
      "cell_type": "code",
      "source": [
        "print(\"Classification Report for Gaussian Naive Bayes\")\n",
        "print(classification_report(y_test, GNB_predict))"
      ],
      "metadata": {
        "colab": {
          "base_uri": "https://localhost:8080/"
        },
        "id": "AtkIU2r8_cjh",
        "outputId": "6e4d8be5-f47e-42d4-ef32-ff22f39454fc"
      },
      "id": "AtkIU2r8_cjh",
      "execution_count": 22,
      "outputs": [
        {
          "output_type": "stream",
          "name": "stdout",
          "text": [
            "Classification Report for Gaussian Naive Bayes\n",
            "              precision    recall  f1-score   support\n",
            "\n",
            "           0       0.95      0.97      0.96       742\n",
            "           1       0.93      0.88      0.90       293\n",
            "\n",
            "    accuracy                           0.95      1035\n",
            "   macro avg       0.94      0.93      0.93      1035\n",
            "weighted avg       0.95      0.95      0.95      1035\n",
            "\n"
          ]
        }
      ]
    },
    {
      "cell_type": "markdown",
      "source": [
        "#### Multinomial Naive Bayes"
      ],
      "metadata": {
        "id": "Nv9BEasrVZ1q"
      },
      "id": "Nv9BEasrVZ1q"
    },
    {
      "cell_type": "code",
      "source": [
        "MNB_model = MultinomialNB()\n",
        "# Model training\n",
        "MNB_model.fit(X_train, y_train)\n",
        "MNB_model.score(X_train, y_train)"
      ],
      "metadata": {
        "colab": {
          "base_uri": "https://localhost:8080/"
        },
        "id": "tVv8HP9UVqj6",
        "outputId": "de662021-ca48-4c2c-a40e-66d0d770abb4"
      },
      "id": "tVv8HP9UVqj6",
      "execution_count": 23,
      "outputs": [
        {
          "output_type": "execute_result",
          "data": {
            "text/plain": [
              "0.9608317214700194"
            ]
          },
          "metadata": {},
          "execution_count": 23
        }
      ]
    },
    {
      "cell_type": "code",
      "source": [
        "# on test data\n",
        "MNB_model.score(X_test, y_test)"
      ],
      "metadata": {
        "colab": {
          "base_uri": "https://localhost:8080/"
        },
        "id": "bFdGYKbHV_El",
        "outputId": "5253eafa-dc2b-4bcd-f32b-e1b8db98d2ea"
      },
      "id": "bFdGYKbHV_El",
      "execution_count": 24,
      "outputs": [
        {
          "output_type": "execute_result",
          "data": {
            "text/plain": [
              "0.9217391304347826"
            ]
          },
          "metadata": {},
          "execution_count": 24
        }
      ]
    },
    {
      "cell_type": "markdown",
      "source": [
        "### Confusion Matrix"
      ],
      "metadata": {
        "id": "NDkJT57-9yr-"
      },
      "id": "NDkJT57-9yr-"
    },
    {
      "cell_type": "code",
      "source": [
        "MNB_predict = MNB_model.predict(X_test)\n",
        "cfm_mnb = confusion_matrix(y_test, MNB_predict)\n",
        "sns.heatmap(cfm_mnb, annot=True, annot_kws={'size':10}, fmt=\"d\")\n",
        "plt.title(\"Confusion Matrix for Multinomial Naive Bayes\")\n",
        "plt.xlabel(\"Predicted\")\n",
        "plt.ylabel(\"Actual\")"
      ],
      "metadata": {
        "colab": {
          "base_uri": "https://localhost:8080/",
          "height": 489
        },
        "id": "oK7CuNFA9zY_",
        "outputId": "202564da-7d1f-4447-81ca-800f90f58ef0"
      },
      "id": "oK7CuNFA9zY_",
      "execution_count": 25,
      "outputs": [
        {
          "output_type": "execute_result",
          "data": {
            "text/plain": [
              "Text(50.722222222222214, 0.5, 'Actual')"
            ]
          },
          "metadata": {},
          "execution_count": 25
        },
        {
          "output_type": "display_data",
          "data": {
            "text/plain": [
              "<Figure size 640x480 with 2 Axes>"
            ],
            "image/png": "[encoded data removed]"
          },
          "metadata": {}
        }
      ]
    },
    {
      "cell_type": "code",
      "source": [
        "print(\"Classification Report for Multinomial Naive Bayes\")\n",
        "print(classification_report(y_test, MNB_predict))"
      ],
      "metadata": {
        "colab": {
          "base_uri": "https://localhost:8080/"
        },
        "id": "bG-94l4w_2_r",
        "outputId": "a0cb8a84-102c-454c-c7fa-1da8169f7eee"
      },
      "id": "bG-94l4w_2_r",
      "execution_count": 26,
      "outputs": [
        {
          "output_type": "stream",
          "name": "stdout",
          "text": [
            "Classification Report for Multinomial Naive Bayes\n",
            "              precision    recall  f1-score   support\n",
            "\n",
            "           0       0.90      1.00      0.95       742\n",
            "           1       1.00      0.72      0.84       293\n",
            "\n",
            "    accuracy                           0.92      1035\n",
            "   macro avg       0.95      0.86      0.89      1035\n",
            "weighted avg       0.93      0.92      0.92      1035\n",
            "\n"
          ]
        }
      ]
    },
    {
      "cell_type": "markdown",
      "source": [
        "#### Bernoulli Naive Bayes"
      ],
      "metadata": {
        "id": "f6hyBOGSV519"
      },
      "id": "f6hyBOGSV519"
    },
    {
      "cell_type": "code",
      "source": [
        "BNB_model = BernoulliNB()\n",
        "# Model training\n",
        "BNB_model.fit(X_train, y_train)\n",
        "BNB_model.score(X_train, y_train)"
      ],
      "metadata": {
        "colab": {
          "base_uri": "https://localhost:8080/"
        },
        "id": "n2SIKRwVV_3y",
        "outputId": "7f7754b6-4dfe-4bf8-b7d3-df07166a334f"
      },
      "id": "n2SIKRwVV_3y",
      "execution_count": 27,
      "outputs": [
        {
          "output_type": "execute_result",
          "data": {
            "text/plain": [
              "0.8740328820116054"
            ]
          },
          "metadata": {},
          "execution_count": 27
        }
      ]
    },
    {
      "cell_type": "code",
      "source": [
        "# on test data\n",
        "BNB_model.score(X_test, y_test)"
      ],
      "metadata": {
        "colab": {
          "base_uri": "https://localhost:8080/"
        },
        "id": "P1yEi3G9Wt7p",
        "outputId": "6b1ea3f2-40de-417f-caa7-049675885ccb"
      },
      "id": "P1yEi3G9Wt7p",
      "execution_count": 28,
      "outputs": [
        {
          "output_type": "execute_result",
          "data": {
            "text/plain": [
              "0.8473429951690822"
            ]
          },
          "metadata": {},
          "execution_count": 28
        }
      ]
    },
    {
      "cell_type": "markdown",
      "source": [
        "## Confusion Matrix"
      ],
      "metadata": {
        "id": "jCkKseef-r8S"
      },
      "id": "jCkKseef-r8S"
    },
    {
      "cell_type": "code",
      "source": [
        "BNB_predict = BNB_model.predict(X_test)\n",
        "cfm_bnb = confusion_matrix(y_test, BNB_predict)\n",
        "sns.heatmap(cfm_bnb, annot=True, annot_kws={'size':10}, fmt=\"d\")\n",
        "plt.title(\"Confusion Matrix for Bernoulli Naive Bayes\")\n",
        "plt.xlabel(\"Predicted\")\n",
        "plt.ylabel(\"Actual\")"
      ],
      "metadata": {
        "colab": {
          "base_uri": "https://localhost:8080/",
          "height": 489
        },
        "id": "SZ_ARdPv-sbg",
        "outputId": "4744548a-0608-4c23-ee6d-1fa5fea0b2a7"
      },
      "id": "SZ_ARdPv-sbg",
      "execution_count": 29,
      "outputs": [
        {
          "output_type": "execute_result",
          "data": {
            "text/plain": [
              "Text(50.722222222222214, 0.5, 'Actual')"
            ]
          },
          "metadata": {},
          "execution_count": 29
        },
        {
          "output_type": "display_data",
          "data": {
            "text/plain": [
              "<Figure size 640x480 with 2 Axes>"
            ],
            "image/png": "[encoded data removed]"
          },
          "metadata": {}
        }
      ]
    },
    {
      "cell_type": "code",
      "source": [
        "print(\"Classification Report for Bernoulli Naive Bayes\")\n",
        "print(classification_report(y_test, BNB_predict))"
      ],
      "metadata": {
        "colab": {
          "base_uri": "https://localhost:8080/"
        },
        "id": "8dDQAw2fAOHt",
        "outputId": "c6a2da4a-1c49-48c6-d63d-cce3a6f4126c"
      },
      "id": "8dDQAw2fAOHt",
      "execution_count": 30,
      "outputs": [
        {
          "output_type": "stream",
          "name": "stdout",
          "text": [
            "Classification Report for Bernoulli Naive Bayes\n",
            "              precision    recall  f1-score   support\n",
            "\n",
            "           0       0.83      0.98      0.90       742\n",
            "           1       0.92      0.50      0.65       293\n",
            "\n",
            "    accuracy                           0.85      1035\n",
            "   macro avg       0.88      0.74      0.78      1035\n",
            "weighted avg       0.86      0.85      0.83      1035\n",
            "\n"
          ]
        }
      ]
    },
    {
      "cell_type": "markdown",
      "source": [
        "## Support Vector Machines"
      ],
      "metadata": {
        "id": "0s6ttK4zKjPl"
      },
      "id": "0s6ttK4zKjPl"
    },
    {
      "cell_type": "code",
      "execution_count": 31,
      "id": "b7b5d2d5-6720-400e-9dfc-20c1e075e02a",
      "metadata": {
        "colab": {
          "base_uri": "https://localhost:8080/"
        },
        "id": "b7b5d2d5-6720-400e-9dfc-20c1e075e02a",
        "outputId": "7e5c964e-6f7a-428e-f23c-6375a0d7ff4a"
      },
      "outputs": [
        {
          "data": {
            "text/plain": [
              "1.0"
            ]
          },
          "execution_count": 31,
          "metadata": {},
          "output_type": "execute_result"
        }
      ],
      "source": [
        "#Import svm model\n",
        "from sklearn import svm\n",
        "\n",
        "#Create a svm Classifier\n",
        "clf = svm.SVC()\n",
        "\n",
        "#Train the model using the training sets\n",
        "clf.fit(X_train, y_train)\n",
        "clf.score(X_train, y_train)\n"
      ]
    },
    {
      "cell_type": "code",
      "source": [
        "#performance on test data\n",
        "clf.score(X_test, y_test)"
      ],
      "metadata": {
        "colab": {
          "base_uri": "https://localhost:8080/"
        },
        "id": "RBF-kAbaOYEx",
        "outputId": "e690a76b-418b-4760-d3fa-d961e9d2cad8"
      },
      "id": "RBF-kAbaOYEx",
      "execution_count": null,
      "outputs": [
        {
          "output_type": "execute_result",
          "data": {
            "text/plain": [
              "0.9855072463768116"
            ]
          },
          "metadata": {},
          "execution_count": 39
        }
      ]
    },
    {
      "cell_type": "code",
      "source": [
        "svc_predict = clf.predict(X_test)\n",
        "cfm_svc = confusion_matrix(y_test, svc_predict)\n",
        "sns.heatmap(cfm_svc, annot=True, annot_kws={'size':10}, fmt=\"d\")"
      ],
      "metadata": {
        "id": "uSsXtINJAVPI"
      },
      "id": "uSsXtINJAVPI",
      "execution_count": null,
      "outputs": []
    },
    {
      "cell_type": "code",
      "source": [
        "print(\"Classification Report for Support Vector Classifier\")\n",
        "print(classification_report(y_test, svc_predict))"
      ],
      "metadata": {
        "id": "P6x5QBOzAU8i"
      },
      "id": "P6x5QBOzAU8i",
      "execution_count": null,
      "outputs": []
    },
    {
      "cell_type": "code",
      "source": [],
      "metadata": {
        "id": "RZfbZoHEA9Z9"
      },
      "id": "RZfbZoHEA9Z9",
      "execution_count": null,
      "outputs": []
    },
    {
      "cell_type": "markdown",
      "source": [
        "## K- Nearest Neighbor"
      ],
      "metadata": {
        "id": "4VrzdJKPM9Hx"
      },
      "id": "4VrzdJKPM9Hx"
    },
    {
      "cell_type": "code",
      "execution_count": 36,
      "id": "3b4f091a-5f43-428e-bfef-9e6696bad232",
      "metadata": {
        "colab": {
          "base_uri": "https://localhost:8080/"
        },
        "id": "3b4f091a-5f43-428e-bfef-9e6696bad232",
        "outputId": "1655accc-a797-471d-e71e-df42e5ec6824"
      },
      "outputs": [
        {
          "output_type": "execute_result",
          "data": {
            "text/plain": [
              "0.9765473887814313"
            ]
          },
          "metadata": {},
          "execution_count": 36
        }
      ],
      "source": [
        "from sklearn.neighbors import KNeighborsClassifier\n",
        "knn = KNeighborsClassifier()\n",
        "knn.fit(X_train, y_train)\n",
        "knn.score(X_train, y_train)"
      ]
    },
    {
      "cell_type": "code",
      "execution_count": 37,
      "id": "3f215895-d15c-40ec-88f4-4f30b73d0b38",
      "metadata": {
        "colab": {
          "base_uri": "https://localhost:8080/"
        },
        "id": "3f215895-d15c-40ec-88f4-4f30b73d0b38",
        "outputId": "7ade0ef3-bc21-4796-d603-2bebb9f8d7a2"
      },
      "outputs": [
        {
          "output_type": "execute_result",
          "data": {
            "text/plain": [
              "0.9603864734299516"
            ]
          },
          "metadata": {},
          "execution_count": 37
        }
      ],
      "source": [
        "#per4formance on test data\n",
        "knn.score(X_test, y_test)"
      ]
    },
    {
      "cell_type": "code",
      "source": [
        "knn_predict = knn.predict(X_test)\n",
        "cfm_knn = confusion_matrix(y_test, knn_predict)\n",
        "sns.heatmap(cfm_knn, annot=True, annot_kws={'size':10}, fmt=\"d\")\n",
        "plt.title(\"Confusion Matrix for K Nearest Neighbors\")\n",
        "plt.xlabel(\"Predicted\")\n",
        "plt.ylabel(\"Actual\")"
      ],
      "metadata": {
        "colab": {
          "base_uri": "https://localhost:8080/",
          "height": 489
        },
        "id": "2TpQKJXrAxFf",
        "outputId": "ba5f2d7c-8565-485d-e459-363d33f64a96"
      },
      "id": "2TpQKJXrAxFf",
      "execution_count": 40,
      "outputs": [
        {
          "output_type": "execute_result",
          "data": {
            "text/plain": [
              "Text(50.722222222222214, 0.5, 'Actual')"
            ]
          },
          "metadata": {},
          "execution_count": 40
        },
        {
          "output_type": "display_data",
          "data": {
            "text/plain": [
              "<Figure size 640x480 with 2 Axes>"
            ],
            "image/png": "[encoded data removed]"
          },
          "metadata": {}
        }
      ]
    },
    {
      "cell_type": "code",
      "source": [
        "print(\"Classification Report for K Nearest Neighbors\")\n",
        "print(classification_report(y_test, knn_predict))"
      ],
      "metadata": {
        "colab": {
          "base_uri": "https://localhost:8080/"
        },
        "id": "msZtzpKNAw4I",
        "outputId": "6a5ce47c-17a4-46c4-e645-6e6606cc4604"
      },
      "id": "msZtzpKNAw4I",
      "execution_count": 39,
      "outputs": [
        {
          "output_type": "stream",
          "name": "stdout",
          "text": [
            "Classification Report for K Nearest Neighbors\n",
            "              precision    recall  f1-score   support\n",
            "\n",
            "           0       0.96      0.99      0.97       742\n",
            "           1       0.97      0.89      0.93       293\n",
            "\n",
            "    accuracy                           0.96      1035\n",
            "   macro avg       0.96      0.94      0.95      1035\n",
            "weighted avg       0.96      0.96      0.96      1035\n",
            "\n"
          ]
        }
      ]
    },
    {
      "cell_type": "code",
      "execution_count": null,
      "id": "f7da38f9-21ae-46fc-b634-084d23d8ff8e",
      "metadata": {
        "id": "f7da38f9-21ae-46fc-b634-084d23d8ff8e"
      },
      "outputs": [],
      "source": [
        "# Results"
      ]
    },
    {
      "cell_type": "markdown",
      "source": [
        "# Results\n",
        "\n",
        "| Model          |  | Accuracy on Test |\n",
        "| :---------------- | :------: | ----: |\n",
        "| Naive Bayes       |   Gussian Naive Bayes   | 0.9469 |\n",
        "|       | Multinomial Naive Bayes | 0.9217|\n",
        "|        |   Bernoulli Naive Bayes   | 0.8473|\n",
        "| SVM          |    | 0.9855|\n",
        "| K Nearest Neighbors   |   | 0.9604|\n"
      ],
      "metadata": {
        "id": "rl6C9k0QXDRx"
      },
      "id": "rl6C9k0QXDRx"
    },
    {
      "cell_type": "code",
      "source": [],
      "metadata": {
        "id": "OZuNwAj-XCMF"
      },
      "id": "OZuNwAj-XCMF",
      "execution_count": null,
      "outputs": []
    }
  ],
  "metadata": {
    "kernelspec": {
      "display_name": "Python 3",
      "name": "python3"
    },
    "language_info": {
      "codemirror_mode": {
        "name": "ipython",
        "version": 3
      },
      "file_extension": ".py",
      "mimetype": "text/x-python",
      "name": "python",
      "nbconvert_exporter": "python",
      "pygments_lexer": "ipython3",
      "version": "3.11.7"
    },
    "colab": {
      "provenance": []
    }
  },
  "nbformat": 4,
  "nbformat_minor": 5
}